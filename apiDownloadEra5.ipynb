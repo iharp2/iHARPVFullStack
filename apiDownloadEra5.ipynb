{
 "cells": [
  {
   "cell_type": "code",
   "execution_count": 1,
   "metadata": {},
   "outputs": [
    {
     "name": "stdout",
     "output_type": "stream",
     "text": [
      "Defaulting to user installation because normal site-packages is not writeable\n",
      "Collecting cdsapi\n",
      "  Downloading cdsapi-0.7.0-py2.py3-none-any.whl (12 kB)\n",
      "Requirement already satisfied: tqdm in /home/husse408/.local/lib/python3.10/site-packages (from cdsapi) (4.66.1)\n",
      "Requirement already satisfied: requests>=2.5.0 in /home/husse408/.local/lib/python3.10/site-packages (from cdsapi) (2.31.0)\n",
      "Collecting cads-api-client>=0.9.2\n",
      "  Downloading cads_api_client-1.0.3-py3-none-any.whl (20 kB)\n",
      "Requirement already satisfied: typing-extensions in /home/husse408/.local/lib/python3.10/site-packages (from cads-api-client>=0.9.2->cdsapi) (4.7.1)\n",
      "Collecting multiurl\n",
      "  Downloading multiurl-0.3.1.tar.gz (18 kB)\n",
      "  Preparing metadata (setup.py) ... \u001b[?25ldone\n",
      "\u001b[?25hRequirement already satisfied: attrs in /home/husse408/.local/lib/python3.10/site-packages (from cads-api-client>=0.9.2->cdsapi) (23.2.0)\n",
      "Requirement already satisfied: idna<4,>=2.5 in /home/husse408/.local/lib/python3.10/site-packages (from requests>=2.5.0->cdsapi) (3.4)\n",
      "Requirement already satisfied: urllib3<3,>=1.21.1 in /home/husse408/.local/lib/python3.10/site-packages (from requests>=2.5.0->cdsapi) (2.0.3)\n",
      "Requirement already satisfied: certifi>=2017.4.17 in /home/husse408/.local/lib/python3.10/site-packages (from requests>=2.5.0->cdsapi) (2023.7.22)\n",
      "Requirement already satisfied: charset-normalizer<4,>=2 in /home/husse408/.local/lib/python3.10/site-packages (from requests>=2.5.0->cdsapi) (3.2.0)\n",
      "Requirement already satisfied: pytz in /home/husse408/.local/lib/python3.10/site-packages (from multiurl->cads-api-client>=0.9.2->cdsapi) (2024.1)\n",
      "Requirement already satisfied: python-dateutil in /home/husse408/.local/lib/python3.10/site-packages (from multiurl->cads-api-client>=0.9.2->cdsapi) (2.8.2)\n",
      "Requirement already satisfied: six>=1.5 in /usr/lib/python3/dist-packages (from python-dateutil->multiurl->cads-api-client>=0.9.2->cdsapi) (1.16.0)\n",
      "Building wheels for collected packages: multiurl\n",
      "  Building wheel for multiurl (setup.py) ... \u001b[?25ldone\n",
      "\u001b[?25h  Created wheel for multiurl: filename=multiurl-0.3.1-py3-none-any.whl size=21133 sha256=1772eead5c2a85d207197c40c4f41baa766cef8194e2e1db613737bf9f973834\n",
      "  Stored in directory: /home/husse408/.cache/pip/wheels/9b/d9/5f/36a39fd10d15b5b2d362ad6dc8a1bd28a3b1e14e08357944bf\n",
      "Successfully built multiurl\n",
      "Installing collected packages: multiurl, cads-api-client, cdsapi\n",
      "Successfully installed cads-api-client-1.0.3 cdsapi-0.7.0 multiurl-0.3.1\n"
     ]
    }
   ],
   "source": [
    "!pip install cdsapi"
   ]
  },
  {
   "cell_type": "code",
   "execution_count": 2,
   "metadata": {},
   "outputs": [
    {
     "name": "stderr",
     "output_type": "stream",
     "text": [
      "2024-06-03 10:21:06,367 INFO Welcome to the CDS\n",
      "2024-06-03 10:21:06,369 INFO Sending request to https://cds.climate.copernicus.eu/api/v2/resources/reanalysis-era5-single-levels\n",
      "2024-06-03 10:21:06,708 INFO Request is queued\n"
     ]
    }
   ],
   "source": [
    "import cdsapi\n",
    "\n",
    "c = cdsapi.Client()\n",
    "\n",
    "c.retrieve(\n",
    "    'reanalysis-era5-single-levels',\n",
    "    {\n",
    "        'product_type': 'reanalysis',\n",
    "        'variable': '2m_temperature',\n",
    "        'year': '2023',\n",
    "        'month': [\n",
    "            '01', '02', '03',\n",
    "            '04', '05', '06',\n",
    "            '07', '08', '09',\n",
    "            '10', '11', '12',\n",
    "        ],\n",
    "        'day': [\n",
    "            '01', '02', '03',\n",
    "            '04', '05', '06',\n",
    "            '07', '08', '09',\n",
    "            '10', '11', '12',\n",
    "            '13', '14', '15',\n",
    "            '16', '17', '18',\n",
    "            '19', '20', '21',\n",
    "            '22', '23', '24',\n",
    "            '25', '26', '27',\n",
    "            '28', '29', '30',\n",
    "            '31',\n",
    "        ],\n",
    "        'time': [\n",
    "            '00:00', '01:00', '02:00',\n",
    "            '03:00', '04:00', '05:00',\n",
    "            '06:00', '07:00', '08:00',\n",
    "            '09:00', '10:00', '11:00',\n",
    "            '12:00', '13:00', '14:00',\n",
    "            '15:00', '16:00', '17:00',\n",
    "            '18:00', '19:00', '20:00',\n",
    "            '21:00', '22:00', '23:00',\n",
    "        ],\n",
    "        'area': [\n",
    "            90, -180, -90,\n",
    "            180,\n",
    "        ],\n",
    "        'format': 'netcdf',\n",
    "    },\n",
    "    'download.nc')"
   ]
  },
  {
   "cell_type": "code",
   "execution_count": null,
   "metadata": {},
   "outputs": [],
   "source": []
  }
 ],
 "metadata": {
  "kernelspec": {
   "display_name": "Python 3",
   "language": "python",
   "name": "python3"
  },
  "language_info": {
   "codemirror_mode": {
    "name": "ipython",
    "version": 3
   },
   "file_extension": ".py",
   "mimetype": "text/x-python",
   "name": "python",
   "nbconvert_exporter": "python",
   "pygments_lexer": "ipython3",
   "version": "3.10.12"
  },
  "orig_nbformat": 4
 },
 "nbformat": 4,
 "nbformat_minor": 2
}
