{
 "cells": [
  {
   "cell_type": "markdown",
   "metadata": {},
   "source": [
    "## Get Raw encodings to be used later"
   ]
  },
  {
   "cell_type": "code",
   "execution_count": 1,
   "metadata": {},
   "outputs": [
    {
     "data": {
      "text/plain": [
       "{'dtype': dtype('int16'),\n",
       " 'source': '/data/era5/raw/t2m/t2m-2020.nc',\n",
       " 'original_shape': (8784, 721, 1440),\n",
       " 'missing_value': -32767,\n",
       " '_FillValue': -32767,\n",
       " 'scale_factor': 0.002035606935761968,\n",
       " 'add_offset': 259.33617854662975}"
      ]
     },
     "execution_count": 1,
     "metadata": {},
     "output_type": "execute_result"
    }
   ],
   "source": [
    "import xarray as xr\n",
    "import os\n",
    "\n",
    "ds_raw = xr.open_dataset('/data/era5/raw/t2m/t2m-2020.nc')\n",
    "encoding = ds_raw['t2m'].encoding\n",
    "ds_raw = ''\n",
    "encoding"
   ]
  },
  {
   "cell_type": "markdown",
   "metadata": {},
   "source": [
    "# Resample Daily"
   ]
  },
  {
   "cell_type": "markdown",
   "metadata": {},
   "source": [
    "### But I need to do the daily into multiple files as they are large"
   ]
  },
  {
   "cell_type": "code",
   "execution_count": null,
   "metadata": {},
   "outputs": [],
   "source": [
    "import xarray as xr\n",
    "import os\n",
    "import pandas as pd\n",
    "\n",
    "# Directory containing the .nc files\n",
    "data_dir = '/data/era5/raw/tp/temp'\n",
    "output_file_min = '/data/era5/preprocessed/tp/combined_daily_min_2019_2023.nc'\n",
    "output_file_max = '/data/era5/preprocessed/tp/combined_daily_max_2019_2023.nc'\n",
    "output_file_mean = '/data/era5/preprocessed/tp/combined_daily_mean_2019_2023.nc'\n",
    "\n",
    "# List to store resampled datasets\n",
    "resampled_datasets_min = []\n",
    "resampled_datasets_mean = []\n",
    "resampled_datasets_max = []\n",
    "\n",
    "nc_files = sorted([os.path.join(data_dir, f) for f in os.listdir(data_dir) if f.endswith('.nc')])\n",
    "\n",
    "# Iterate over each .nc file in the directory\n",
    "for filename in nc_files:\n",
    "    print(filename)\n",
    "    if filename.endswith('.nc'):\n",
    "        file_path = os.path.join(data_dir, filename)\n",
    "        \n",
    "        # Open the dataset\n",
    "        ds = xr.open_dataset(file_path)\n",
    "        \n",
    "        # Resample the data from hourly to daily\n",
    "        ds_daily = ds.resample(time='1D').min()\n",
    "        ds_daily['tp'].encoding = encoding\n",
    "        # Append the resampled dataset to the list\n",
    "        resampled_datasets_min.append(ds_daily)\n",
    "        \n",
    "ds =''\n",
    "ds_daily =''\n",
    "\n",
    "# Concatenate all resampled datasets along the time dimension\n",
    "combined_ds = xr.concat(resampled_datasets_min, dim='time').to_netcdf(output_file_min)\n",
    "resampled_datasets_min=[]\n",
    "# Iterate over each .nc file in the directory\n",
    "for filename in nc_files:\n",
    "    print(filename)\n",
    "    if filename.endswith('.nc'):\n",
    "        file_path = os.path.join(data_dir, filename)\n",
    "        \n",
    "        # Open the dataset\n",
    "        ds = xr.open_dataset(file_path)\n",
    "        \n",
    "        ds_daily = ds.resample(time='1D').max()\n",
    "        ds_daily['tp'].encoding = encoding\n",
    "        # Append the resampled dataset to the list\n",
    "        resampled_datasets_max.append(ds_daily)\n",
    "        \n",
    "        ds =''\n",
    "        ds_daily =''\n",
    "ds =''\n",
    "ds_daily =''\n",
    "combined_ds = xr.concat(resampled_datasets_max, dim='time').to_netcdf(output_file_max)\n",
    "resampled_datasets_max=[]\n",
    "# Iterate over each .nc file in the directory\n",
    "for filename in nc_files:\n",
    "    print(filename)\n",
    "    if filename.endswith('.nc'):\n",
    "        file_path = os.path.join(data_dir, filename)\n",
    "        \n",
    "        # Open the dataset\n",
    "        ds = xr.open_dataset(file_path)\n",
    "        \n",
    "        ds_daily = ds.resample(time='1D').mean()\n",
    "        ds_daily['tp'].encoding = encoding\n",
    "        # Append the resampled dataset to the list\n",
    "        resampled_datasets_mean.append(ds_daily)\n",
    "        ds =''\n",
    "        ds_daily =''\n",
    "ds =''\n",
    "ds_daily =''\n",
    "combined_ds = xr.concat(resampled_datasets_mean, dim='time').to_netcdf(output_file_mean)\n",
    "resampled_datasets_mean = []\n",
    "\n",
    "ds = ''\n",
    "ds_daily =''\n",
    "combined_ds = ''\n",
    "print(f\"Daily resampled data saved to {output_file_mean}\")\n",
    "print(f\"Daily resampled data saved to {output_file_min}\")\n",
    "print(f\"Daily resampled data saved to {output_file_max}\")\n",
    "\n"
   ]
  },
  {
   "cell_type": "markdown",
   "metadata": {},
   "source": [
    "### Combine Daily files into one daily file"
   ]
  },
  {
   "cell_type": "code",
   "execution_count": 1,
   "metadata": {},
   "outputs": [],
   "source": [
    "\n",
    "import xarray as xr\n",
    "\n",
    "ds=''\n",
    "ds_monthly=''\n",
    "data = ''\n",
    "ds_raw = ''\n",
    "ds_daily =''\n",
    "\n",
    "ds_1 = xr.open_dataset('/data/era5/preprocessed/sp/combined_daily_mean_2014_2019.nc')\n",
    "ds_2 = xr.open_dataset('/data/era5/preprocessed/sp/combined_daily_mean_2020_2023.nc')\n",
    "data = xr.concat([ds_1,ds_2], dim='time')\n",
    "ds_1 =''\n",
    "ds_2 =''\n",
    "data.to_netcdf('/data/era5/preprocessed/sp/combined_daily_mean_2014_2023.nc',engine='netcdf4')\n",
    "data=''\n",
    "#----\n",
    "ds_1 = xr.open_dataset('/data/era5/preprocessed/sp/combined_daily_min_2014_2018.nc')\n",
    "ds_2 = xr.open_dataset('/data/era5/preprocessed/sp/combined_daily_min_2019_2023.nc')\n",
    "data = xr.concat([ds_1,ds_2], dim='time')\n",
    "ds_1 =''\n",
    "ds_2 =''\n",
    "data.to_netcdf('/data/era5/preprocessed/sp/combined_daily_min_2014_2023.nc',engine='netcdf4')\n",
    "data=''\n",
    "\n",
    "#----\n",
    "ds_1 = xr.open_dataset('/data/era5/preprocessed/sp/combined_daily_max_2014_2018.nc')\n",
    "ds_2 = xr.open_dataset('/data/era5/preprocessed/sp/combined_daily_max_2019_2023.nc')\n",
    "data = xr.concat([ds_1,ds_2], dim='time')\n",
    "ds_1 =''\n",
    "ds_2 =''\n",
    "data.to_netcdf('/data/era5/preprocessed/sp/combined_daily_max_2014_2023.nc',engine='netcdf4')\n",
    "data=''\n"
   ]
  },
  {
   "cell_type": "code",
   "execution_count": 20,
   "metadata": {},
   "outputs": [],
   "source": []
  },
  {
   "cell_type": "markdown",
   "metadata": {},
   "source": [
    "# Resample Monthly"
   ]
  },
  {
   "cell_type": "code",
   "execution_count": 3,
   "metadata": {},
   "outputs": [
    {
     "name": "stdout",
     "output_type": "stream",
     "text": [
      "Monthly resampled data saved to /data/era5/preprocessed/t2m/combined_monthly_min_2019_2023.nc\n",
      "Monthly resampled data saved to /data/era5/preprocessed/t2m/combined_monthly_mean_2019_2023.nc\n",
      "Monthly resampled data saved to /data/era5/preprocessed/t2m/combined_monthly_max_2019_2023.nc\n"
     ]
    }
   ],
   "source": [
    "import xarray as xr\n",
    "import os\n",
    "import pandas as pd\n",
    "\n",
    "# Directory containing the .nc files\n",
    "file_path = '/data/era5/preprocessed/t2m/combined_daily_min_2019_2023.nc'\n",
    "output_file = '/data/era5/preprocessed/t2m/combined_monthly_min_2019_2023.nc'\n",
    "\n",
    "ds = xr.open_dataset(file_path)\n",
    "\n",
    "# Resample the data from hourly to daily\n",
    "ds_monthly = ds.resample(time='1ME').min()\n",
    "ds_monthly['t2m'].encoding = encoding\n",
    "ds_monthly.to_netcdf(output_file)\n",
    "\n",
    "print(f\"Monthly resampled data saved to {output_file}\")\n",
    "# Directory containing the .nc files\n",
    "file_path = '/data/era5/preprocessed/t2m/combined_daily_mean_2019_2023.nc'\n",
    "output_file = '/data/era5/preprocessed/t2m/combined_monthly_mean_2019_2023.nc'\n",
    "\n",
    "ds = xr.open_dataset(file_path)\n",
    "\n",
    "# Resample the data from hourly to daily\n",
    "ds_monthly = ds.resample(time='1ME').mean()\n",
    "ds_monthly['t2m'].encoding = encoding\n",
    "ds_monthly.to_netcdf(output_file)\n",
    "\n",
    "print(f\"Monthly resampled data saved to {output_file}\")\n",
    "# Directory containing the .nc files\n",
    "file_path = '/data/era5/preprocessed/t2m/combined_daily_max_2019_2023.nc'\n",
    "output_file = '/data/era5/preprocessed/t2m/combined_monthly_max_2019_2023.nc'\n",
    "\n",
    "ds = xr.open_dataset(file_path)\n",
    "\n",
    "# Resample the data from hourly to daily\n",
    "ds_monthly = ds.resample(time='1ME').max()\n",
    "ds_monthly['t2m'].encoding = encoding\n",
    "ds_monthly.to_netcdf(output_file)\n",
    "\n",
    "print(f\"Monthly resampled data saved to {output_file}\")"
   ]
  },
  {
   "cell_type": "markdown",
   "metadata": {},
   "source": [
    "# Resample Yearly"
   ]
  },
  {
   "cell_type": "code",
   "execution_count": 6,
   "metadata": {},
   "outputs": [
    {
     "name": "stdout",
     "output_type": "stream",
     "text": [
      "Daily resampled data saved to /data/era5/preprocessed/t2m/combined_yearly_min_2014_2023.nc\n",
      "Daily resampled data saved to /data/era5/preprocessed/t2m/combined_yearly_max_2014_2023.nc\n",
      "Daily resampled data saved to /data/era5/preprocessed/t2m/combined_yearly_mean_2014_2023.nc\n"
     ]
    }
   ],
   "source": [
    "import xarray as xr\n",
    "import os\n",
    "import pandas as pd\n",
    "\n",
    "# Directory containing the .nc files\n",
    "file_path = '/data/era5/preprocessed/t2m/combined_monthly_min_2014_2023.nc'\n",
    "output_file = '/data/era5/preprocessed/t2m/combined_yearly_min_2014_2023.nc'\n",
    "\n",
    "ds = xr.open_dataset(file_path)\n",
    "\n",
    "# Resample the data from hourly to daily\n",
    "ds_yearly = ds.resample(time='1YE').min()\n",
    "ds_yearly['t2m'].encoding = encoding\n",
    "ds_yearly.to_netcdf(output_file)\n",
    "\n",
    "print(f\"Daily resampled data saved to {output_file}\")\n",
    "# Directory containing the .nc files\n",
    "file_path = '/data/era5/preprocessed/t2m/combined_monthly_max_2014_2023.nc'\n",
    "output_file = '/data/era5/preprocessed/t2m/combined_yearly_max_2014_2023.nc'\n",
    "\n",
    "ds = xr.open_dataset(file_path)\n",
    "\n",
    "# Resample the data from hourly to daily\n",
    "ds_yearly = ds.resample(time='1YE').max()\n",
    "ds_yearly['t2m'].encoding = encoding\n",
    "ds_yearly.to_netcdf(output_file)\n",
    "\n",
    "print(f\"Daily resampled data saved to {output_file}\")\n",
    "# Directory containing the .nc files\n",
    "file_path = '/data/era5/preprocessed/t2m/combined_monthly_mean_2014_2023.nc'\n",
    "output_file = '/data/era5/preprocessed/t2m/combined_yearly_mean_2014_2023.nc'\n",
    "\n",
    "ds = xr.open_dataset(file_path)\n",
    "\n",
    "# Resample the data from hourly to daily\n",
    "ds_yearly = ds.resample(time='1YE').mean()\n",
    "ds_yearly['t2m'].encoding = encoding\n",
    "ds_yearly.to_netcdf(output_file)\n",
    "\n",
    "print(f\"Daily resampled data saved to {output_file}\")\n"
   ]
  }
 ],
 "metadata": {
  "kernelspec": {
   "display_name": "Python 3",
   "language": "python",
   "name": "python3"
  },
  "language_info": {
   "codemirror_mode": {
    "name": "ipython",
    "version": 3
   },
   "file_extension": ".py",
   "mimetype": "text/x-python",
   "name": "python",
   "nbconvert_exporter": "python",
   "pygments_lexer": "ipython3",
   "version": "3.10.12"
  },
  "orig_nbformat": 4
 },
 "nbformat": 4,
 "nbformat_minor": 2
}
